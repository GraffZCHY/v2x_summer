{
 "cells": [
  {
   "cell_type": "code",
   "execution_count": 2,
   "id": "19a523d2-aa51-4d78-8c32-e7f4ae5ff912",
   "metadata": {},
   "outputs": [],
   "source": [
    "import numpy as np\n",
    "import copy\n",
    "import json\n",
    "from message import *"
   ]
  },
  {
   "cell_type": "markdown",
   "id": "be8e6a08-7a92-498f-9f1d-b584cb8f6e45",
   "metadata": {},
   "source": [
    "ROS2 message(topic) from Perception node is in custermised `CAN.msg` format.\\\n",
    "In the example subscriber, topic from ROS2 has been transfered to `Message`(our data structure) format. CAN/Control team can directly use this Message data strucure.\\\n",
    "In this demo, since there is no message from ROS2, we read the fake results from json and transfer it to Message."
   ]
  },
  {
   "cell_type": "code",
   "execution_count": 14,
   "id": "92260501-fe03-46cf-a452-9ce42d401af9",
   "metadata": {},
   "outputs": [],
   "source": [
    "# Load example json file\n",
    "msg_json = json.load(open(\"CAN_format_default.json\"))"
   ]
  },
  {
   "cell_type": "code",
   "execution_count": 77,
   "id": "6ea4d8f8-182d-48e8-af99-baf388be1fd7",
   "metadata": {},
   "outputs": [],
   "source": [
    "# msg_json"
   ]
  },
  {
   "cell_type": "code",
   "execution_count": 8,
   "id": "504e904f-3a4d-4cb7-9652-ad55b30aee5f",
   "metadata": {
    "tags": []
   },
   "outputs": [],
   "source": [
    "def json_to_message(msg, **kwargs):\n",
    "    for k, v in kwargs.items():\n",
    "        if isinstance(v, dict):\n",
    "            setattr(msg, k, globals()[k](list(v.values()), CAN_KEYS[k]))\n",
    "        elif isinstance(v, list):\n",
    "            val = []\n",
    "            for i in v:\n",
    "                val.extend(list(i.values()))\n",
    "            setattr(msg, k, globals()[k](val, CAN_KEYS[k]))"
   ]
  },
  {
   "cell_type": "code",
   "execution_count": 3,
   "id": "23bc2a9a-9173-43c8-b6d7-34b35a4763e5",
   "metadata": {},
   "outputs": [],
   "source": [
    "msg = Message()"
   ]
  },
  {
   "cell_type": "code",
   "execution_count": 10,
   "id": "48768ef5-48e9-4005-ae51-f69e7bf159bf",
   "metadata": {
    "tags": []
   },
   "outputs": [],
   "source": [
    "json_to_message(msg, **msg_json)"
   ]
  },
  {
   "cell_type": "markdown",
   "id": "d8c94f1d-30f2-448e-8754-d64d943d778c",
   "metadata": {},
   "source": [
    "`msg` is in the `Message` format, can print to vasualize"
   ]
  },
  {
   "cell_type": "code",
   "execution_count": 82,
   "id": "b54a08ad-3bdf-4bba-bf10-cb2b26bd1fa9",
   "metadata": {},
   "outputs": [],
   "source": [
    "# print(msg)"
   ]
  },
  {
   "cell_type": "markdown",
   "id": "2f51cad0-349a-4d0c-9ecc-7c2492757fba",
   "metadata": {},
   "source": [
    "`to_can()` function can transfer `Message` to a dict"
   ]
  },
  {
   "cell_type": "code",
   "execution_count": 84,
   "id": "7cbdb11f-766a-4c35-adac-cd779fd766dd",
   "metadata": {},
   "outputs": [],
   "source": [
    "# msg.to_can()"
   ]
  },
  {
   "cell_type": "markdown",
   "id": "f38e3d6e-ebf1-4023-8cc2-8c53e797b621",
   "metadata": {},
   "source": [
    "example of dbc key without track"
   ]
  },
  {
   "cell_type": "code",
   "execution_count": 92,
   "id": "bdc53539-0064-4ce7-a888-f2cd2a4dffa4",
   "metadata": {},
   "outputs": [
    {
     "data": {
      "text/plain": [
       "Objects(Rolling_Count=0.0, Current_Object_Count=5.0, Observation_Time_of_Hour=1800.0, dummy0=0.0, dummy1=0.0, dummy2=0.0, dummy3=0.0, dummy4=0.0, dummy5=0.0)"
      ]
     },
     "execution_count": 92,
     "metadata": {},
     "output_type": "execute_result"
    }
   ],
   "source": [
    "msg.Objects"
   ]
  },
  {
   "cell_type": "code",
   "execution_count": 93,
   "id": "b6b42549-7838-4abc-8003-7d7b77cc640e",
   "metadata": {},
   "outputs": [
    {
     "data": {
      "text/plain": [
       "5.0"
      ]
     },
     "execution_count": 93,
     "metadata": {},
     "output_type": "execute_result"
    }
   ],
   "source": [
    "msg.Objects.Current_Object_Count"
   ]
  },
  {
   "cell_type": "markdown",
   "id": "af127d95-8e2b-4a9b-8afc-04a32881ff3a",
   "metadata": {},
   "source": [
    "example of dbc key with track"
   ]
  },
  {
   "cell_type": "code",
   "execution_count": 94,
   "id": "31a396ef-6287-4408-87df-4d4e0e002523",
   "metadata": {},
   "outputs": [
    {
     "data": {
      "text/plain": [
       "TrafficSign_TrackACollection(num_objects=2, data=[TrafficSign_TrackA(Rolling_Count=0.0, SignObjectID=1.0, Confidence=3.0, LongPos=32.11545181274414, Height_Above_Ground=2.6449999809265137, LatPos=-4.887977600097656, Sign_Type=3.0, Sign_Value=0.0, confidence_val=0.0, bbox_xmin=0.0, bbox_ymin=0.0, bbox_xmax=0.0, bbox_ymax=0.0, bbox3d_x=0.0, bbox3d_y=0.0, bbox3d_z=0.0, bbox3d_dx=0.0, bbox3d_dy=0.0, bbox3d_dz=0.0, bbox3d_ry=0.0, dummy0=0.0, dummy1=0.0, dummy2=0.0, dummy3=0.0, dummy4=0.0, dummy5=0.0), TrafficSign_TrackA(Rolling_Count=0.0, SignObjectID=2.0, Confidence=3.0, LongPos=32.11545181274414, Height_Above_Ground=2.6449999809265137, LatPos=8.433035850524902, Sign_Type=3.0, Sign_Value=0.0, confidence_val=0.0, bbox_xmin=0.0, bbox_ymin=0.0, bbox_xmax=0.0, bbox_ymax=0.0, bbox3d_x=0.0, bbox3d_y=0.0, bbox3d_z=0.0, bbox3d_dx=0.0, bbox3d_dy=0.0, bbox3d_dz=0.0, bbox3d_ry=0.0, dummy0=0.0, dummy1=0.0, dummy2=0.0, dummy3=0.0, dummy4=0.0, dummy5=0.0)])"
      ]
     },
     "execution_count": 94,
     "metadata": {},
     "output_type": "execute_result"
    }
   ],
   "source": [
    "msg.TrafficSign_TrackA"
   ]
  },
  {
   "cell_type": "code",
   "execution_count": 96,
   "id": "488d7f8a-1e3c-4bd9-8e86-fc6b9ea107c1",
   "metadata": {},
   "outputs": [
    {
     "data": {
      "text/plain": [
       "TrafficSign_TrackA(Rolling_Count=0.0, SignObjectID=2.0, Confidence=3.0, LongPos=32.11545181274414, Height_Above_Ground=2.6449999809265137, LatPos=8.433035850524902, Sign_Type=3.0, Sign_Value=0.0, confidence_val=0.0, bbox_xmin=0.0, bbox_ymin=0.0, bbox_xmax=0.0, bbox_ymax=0.0, bbox3d_x=0.0, bbox3d_y=0.0, bbox3d_z=0.0, bbox3d_dx=0.0, bbox3d_dy=0.0, bbox3d_dz=0.0, bbox3d_ry=0.0, dummy0=0.0, dummy1=0.0, dummy2=0.0, dummy3=0.0, dummy4=0.0, dummy5=0.0)"
      ]
     },
     "execution_count": 96,
     "metadata": {},
     "output_type": "execute_result"
    }
   ],
   "source": [
    "msg.TrafficSign_TrackA[1]\n",
    "# msg.TrafficSign_TrackA[1].SignObjectID"
   ]
  },
  {
   "cell_type": "code",
   "execution_count": 20,
   "id": "bb6f10cb-06ea-47ba-b9ac-288d6c285bed",
   "metadata": {},
   "outputs": [
    {
     "data": {
      "text/plain": [
       "['RoadState']"
      ]
     },
     "execution_count": 20,
     "metadata": {},
     "output_type": "execute_result"
    }
   ],
   "source": [
    "msg.get_avail_keys()\n",
    "# msg.get_avail_ros_keys()"
   ]
  },
  {
   "cell_type": "markdown",
   "id": "638be873-8311-471f-b8f0-9f994ca087e2",
   "metadata": {},
   "source": [
    "Add new first level dbc key to `Message`"
   ]
  },
  {
   "cell_type": "code",
   "execution_count": 5,
   "id": "7a90106d-1349-46e0-a670-980cae0540b1",
   "metadata": {},
   "outputs": [],
   "source": [
    "msg.add_new_key(V2XIntersection_MAP=[])"
   ]
  },
  {
   "cell_type": "code",
   "execution_count": 6,
   "id": "0aef1c83-b0d0-4ec1-bd82-2c0886d2abb4",
   "metadata": {},
   "outputs": [
    {
     "data": {
      "text/plain": [
       "['V2XIntersection_MAP']"
      ]
     },
     "execution_count": 6,
     "metadata": {},
     "output_type": "execute_result"
    }
   ],
   "source": [
    "msg.get_avail_keys()"
   ]
  },
  {
   "cell_type": "code",
   "execution_count": 9,
   "id": "83b08596-c89c-4475-a5df-8dcdb125c3dd",
   "metadata": {},
   "outputs": [
    {
     "data": {
      "text/plain": [
       "V2XIntersection_MAP(Rolling_Count=0.0, IntersectionID=0.0, IngressLaneID=0.0, PlannedEgressLaneID=0.0, PlannedManeuver=0.0, SignalGroup=0.0, Map_Validity=0.0)"
      ]
     },
     "execution_count": 9,
     "metadata": {},
     "output_type": "execute_result"
    }
   ],
   "source": [
    "msg.V2XIntersection_MAP"
   ]
  },
  {
   "cell_type": "markdown",
   "id": "5415dc19-4b4d-4c69-bee2-ce21a2d8aa64",
   "metadata": {},
   "source": [
    "Two ways to assign value to second level keys"
   ]
  },
  {
   "cell_type": "code",
   "execution_count": 100,
   "id": "9d409cbd-97a5-4698-bd5b-fe64950a6e53",
   "metadata": {},
   "outputs": [],
   "source": [
    "# 1\n",
    "msg.AVState.GlobalAutonomyStatus = 1"
   ]
  },
  {
   "cell_type": "code",
   "execution_count": 1,
   "id": "48f91e49-256b-4866-9ee0-96636c5ed02b",
   "metadata": {},
   "outputs": [
    {
     "ename": "NameError",
     "evalue": "name 'msg' is not defined",
     "output_type": "error",
     "traceback": [
      "\u001b[0;31m---------------------------------------------------------------------------\u001b[0m",
      "\u001b[0;31mNameError\u001b[0m                                 Traceback (most recent call last)",
      "Cell \u001b[0;32mIn[1], line 1\u001b[0m\n\u001b[0;32m----> 1\u001b[0m msg\u001b[39m.\u001b[39mAVState\n",
      "\u001b[0;31mNameError\u001b[0m: name 'msg' is not defined"
     ]
    }
   ],
   "source": [
    "msg.AVState"
   ]
  },
  {
   "cell_type": "code",
   "execution_count": 12,
   "id": "1331f7bc-b0df-4fd5-b0e6-44f17254f0b6",
   "metadata": {},
   "outputs": [],
   "source": [
    "# 2\n",
    "setattr(msg.V2XIntersection_MAP, \"IntersectionID\", 2573)\n",
    "setattr(msg.V2XIntersection_MAP, \"IngressLaneID\", 7)\n",
    "setattr(msg.V2XIntersection_MAP, \"PlannedEgressLaneID\", 15)\n",
    "setattr(msg.V2XIntersection_MAP, \"PlannedManeuver\", 2)\n",
    "setattr(msg.V2XIntersection_MAP, \"SignalGroup\", 1)\n",
    "setattr(msg.V2XIntersection_MAP, \"Map_Validity\", 1)"
   ]
  },
  {
   "cell_type": "code",
   "execution_count": 13,
   "id": "8219b2a6-ee23-4b84-9b5a-39304ca62c71",
   "metadata": {},
   "outputs": [
    {
     "data": {
      "text/plain": [
       "V2XIntersection_MAP(Rolling_Count=0.0, IntersectionID=2573.0, IngressLaneID=7.0, PlannedEgressLaneID=15.0, PlannedManeuver=2.0, SignalGroup=1.0, Map_Validity=1.0)"
      ]
     },
     "execution_count": 13,
     "metadata": {},
     "output_type": "execute_result"
    }
   ],
   "source": [
    "msg.V2XIntersection_MAP"
   ]
  },
  {
   "cell_type": "markdown",
   "id": "546392b2-bdf2-4538-bb2f-683e1dded5da",
   "metadata": {},
   "source": [
    "Reset first level dbc key to default(all zero)"
   ]
  },
  {
   "cell_type": "code",
   "execution_count": 103,
   "id": "942ef463-7be2-40fe-a0bc-05c25fcf57a5",
   "metadata": {},
   "outputs": [],
   "source": [
    "msg.reset_key(AVState=[])"
   ]
  },
  {
   "cell_type": "code",
   "execution_count": 104,
   "id": "4bdc0b31-e9c2-4e91-bd5a-93464b11eff2",
   "metadata": {},
   "outputs": [
    {
     "data": {
      "text/plain": [
       "AVState(Rolling_Count=0.0, GlobalAutonomyStatus=0.0, SteeringCtrlActive=0.0, FrictionBrakeCtrlActive=0.0, PropulsionCtrlActive=0.0)"
      ]
     },
     "execution_count": 104,
     "metadata": {},
     "output_type": "execute_result"
    }
   ],
   "source": [
    "msg.AVState"
   ]
  },
  {
   "cell_type": "markdown",
   "id": "e90c38af-df97-4f57-9339-5cdba445b166",
   "metadata": {},
   "source": [
    "Be careful when copying, need deep copy to get a new `Message`"
   ]
  },
  {
   "cell_type": "code",
   "execution_count": 105,
   "id": "93846327-a1af-4d75-bc6b-e71b4857c936",
   "metadata": {},
   "outputs": [],
   "source": [
    "msg2 = msg"
   ]
  },
  {
   "cell_type": "code",
   "execution_count": 106,
   "id": "3a475029-e977-44a5-9f53-43ac72328819",
   "metadata": {},
   "outputs": [
    {
     "data": {
      "text/plain": [
       "AVState(Rolling_Count=0.0, GlobalAutonomyStatus=0.0, SteeringCtrlActive=0.0, FrictionBrakeCtrlActive=0.0, PropulsionCtrlActive=0.0)"
      ]
     },
     "execution_count": 106,
     "metadata": {},
     "output_type": "execute_result"
    }
   ],
   "source": [
    "msg2.AVState"
   ]
  },
  {
   "cell_type": "code",
   "execution_count": 107,
   "id": "7590c02a-07f3-4e8d-90c7-06fd7219a903",
   "metadata": {},
   "outputs": [],
   "source": [
    "msg2.AVState.GlobalAutonomyStatus = 150"
   ]
  },
  {
   "cell_type": "code",
   "execution_count": 108,
   "id": "3f7f7d01-7dad-4904-b0f8-a2fa47728985",
   "metadata": {},
   "outputs": [
    {
     "data": {
      "text/plain": [
       "AVState(Rolling_Count=0.0, GlobalAutonomyStatus=150.0, SteeringCtrlActive=0.0, FrictionBrakeCtrlActive=0.0, PropulsionCtrlActive=0.0)"
      ]
     },
     "execution_count": 108,
     "metadata": {},
     "output_type": "execute_result"
    }
   ],
   "source": [
    "msg2.AVState"
   ]
  },
  {
   "cell_type": "code",
   "execution_count": 109,
   "id": "becb5415-7d5e-4b19-ab94-4608c37800fd",
   "metadata": {},
   "outputs": [
    {
     "data": {
      "text/plain": [
       "AVState(Rolling_Count=0.0, GlobalAutonomyStatus=150.0, SteeringCtrlActive=0.0, FrictionBrakeCtrlActive=0.0, PropulsionCtrlActive=0.0)"
      ]
     },
     "execution_count": 109,
     "metadata": {},
     "output_type": "execute_result"
    }
   ],
   "source": [
    "msg.AVState"
   ]
  },
  {
   "cell_type": "code",
   "execution_count": 110,
   "id": "55032893-bc5a-410d-a037-cafee7b083aa",
   "metadata": {},
   "outputs": [],
   "source": [
    "msg2 = copy.deepcopy(msg)"
   ]
  },
  {
   "cell_type": "code",
   "execution_count": 111,
   "id": "0b8843f7-311d-4541-b0c4-7b8355a30cbe",
   "metadata": {},
   "outputs": [],
   "source": [
    "msg2.AVState.GlobalAutonomyStatus = 1"
   ]
  },
  {
   "cell_type": "code",
   "execution_count": 66,
   "id": "41d8b138-b525-4f07-b742-fab766ff9384",
   "metadata": {},
   "outputs": [
    {
     "data": {
      "text/plain": [
       "AVState(Rolling_Count=0.0, GlobalAutonomyStatus=150.0, SteeringCtrlActive=0.0, FrictionBrakeCtrlActive=0.0, PropulsionCtrlActive=0.0)"
      ]
     },
     "execution_count": 66,
     "metadata": {},
     "output_type": "execute_result"
    }
   ],
   "source": [
    "msg.AVState"
   ]
  },
  {
   "cell_type": "markdown",
   "id": "ee84a1c4-8c52-47d1-a519-8c1b20482187",
   "metadata": {},
   "source": [
    "Some other useful functions"
   ]
  },
  {
   "cell_type": "code",
   "execution_count": 112,
   "id": "f13d71d3-7c08-445f-93c0-7a806a1a00cf",
   "metadata": {},
   "outputs": [
    {
     "data": {
      "text/plain": [
       "['Rolling_Count',\n",
       " 'ObjObjectID',\n",
       " 'ObjObjectType',\n",
       " 'LongPos',\n",
       " 'LatPos',\n",
       " 'RelLongVel',\n",
       " 'RelLatVel',\n",
       " 'Confidence',\n",
       " 'Relative_Lane',\n",
       " 'confidence_val',\n",
       " 'bbox_xmin',\n",
       " 'bbox_ymin',\n",
       " 'bbox_xmax',\n",
       " 'bbox_ymax',\n",
       " 'bbox3d_x',\n",
       " 'bbox3d_y',\n",
       " 'bbox3d_z',\n",
       " 'bbox3d_dx',\n",
       " 'bbox3d_dy',\n",
       " 'bbox3d_dz',\n",
       " 'bbox3d_ry',\n",
       " 'dummy0',\n",
       " 'dummy1',\n",
       " 'dummy2',\n",
       " 'dummy3',\n",
       " 'dummy4',\n",
       " 'dummy5']"
      ]
     },
     "execution_count": 112,
     "metadata": {},
     "output_type": "execute_result"
    }
   ],
   "source": [
    "msg.Object_TrackA.get_keys()"
   ]
  },
  {
   "cell_type": "code",
   "execution_count": 113,
   "id": "58193500-7d07-4e85-b634-d02b0278ddc9",
   "metadata": {},
   "outputs": [
    {
     "data": {
      "text/plain": [
       "27"
      ]
     },
     "execution_count": 113,
     "metadata": {},
     "output_type": "execute_result"
    }
   ],
   "source": [
    "msg.Object_TrackA.get_num_keys()"
   ]
  },
  {
   "cell_type": "markdown",
   "id": "905ad495-9f7d-4595-a8af-e6485e3fafb8",
   "metadata": {},
   "source": [
    "to_can funciton transfer `Message` to dict, works for all levels of keys"
   ]
  },
  {
   "cell_type": "code",
   "execution_count": 114,
   "id": "cd466a0c-f6e3-4017-adcd-352b42812cf3",
   "metadata": {},
   "outputs": [
    {
     "data": {
      "text/plain": [
       "{'Rolling_Count': 0.0,\n",
       " 'ObjObjectID': 1.0,\n",
       " 'ObjObjectType': 4.0,\n",
       " 'LongPos': 7.984706,\n",
       " 'LatPos': -2.4892166,\n",
       " 'RelLongVel': 0.0,\n",
       " 'RelLatVel': 1.0,\n",
       " 'Confidence': 3.0,\n",
       " 'Relative_Lane': 0.0,\n",
       " 'confidence_val': 0.0,\n",
       " 'bbox_xmin': 0.0,\n",
       " 'bbox_ymin': 0.0,\n",
       " 'bbox_xmax': 0.0,\n",
       " 'bbox_ymax': 0.0,\n",
       " 'bbox3d_x': 0.0,\n",
       " 'bbox3d_y': 0.0,\n",
       " 'bbox3d_z': 0.0,\n",
       " 'bbox3d_dx': 0.0,\n",
       " 'bbox3d_dy': 0.0,\n",
       " 'bbox3d_dz': 0.0,\n",
       " 'bbox3d_ry': 0.0,\n",
       " 'dummy0': 0.0,\n",
       " 'dummy1': 0.0,\n",
       " 'dummy2': 0.0,\n",
       " 'dummy3': 0.0,\n",
       " 'dummy4': 0.0,\n",
       " 'dummy5': 0.0}"
      ]
     },
     "execution_count": 114,
     "metadata": {},
     "output_type": "execute_result"
    }
   ],
   "source": [
    "msg.to_can()\n",
    "msg.Object_TrackA.to_can()\n",
    "msg.Object_TrackA[0].to_can()"
   ]
  },
  {
   "cell_type": "markdown",
   "id": "3e299b09-1682-4b2d-8876-78b3a5a55957",
   "metadata": {},
   "source": [
    "to_ros funciton transfer `Message` to list, works for first/second levels of keys"
   ]
  },
  {
   "cell_type": "code",
   "execution_count": 70,
   "id": "073027a0-202e-4e00-bdfe-e113ad6c93a2",
   "metadata": {},
   "outputs": [
    {
     "data": {
      "text/plain": [
       "[0.0,\n",
       " 1.0,\n",
       " 4.0,\n",
       " 7.984705924987793,\n",
       " -2.4892165660858154,\n",
       " 0.0,\n",
       " 1.0,\n",
       " 3.0,\n",
       " 0.0,\n",
       " 0.0,\n",
       " 1.0,\n",
       " 0.0,\n",
       " 0.0,\n",
       " 0.0,\n",
       " 0.0,\n",
       " 0.0,\n",
       " 0.0,\n",
       " 0.0,\n",
       " 0.0,\n",
       " 0.0,\n",
       " 0.0,\n",
       " 0.0,\n",
       " 0.0,\n",
       " 0.0,\n",
       " 0.0,\n",
       " 0.0,\n",
       " 0.0]"
      ]
     },
     "execution_count": 70,
     "metadata": {},
     "output_type": "execute_result"
    }
   ],
   "source": [
    "# msg.to_ros(CAN) \n",
    "msg.Object_TrackA.to_ros()\n",
    "msg.Object_TrackA[0].to_ros()"
   ]
  },
  {
   "cell_type": "code",
   "execution_count": 116,
   "id": "7491f22e-cf2e-47a8-bcbc-f94b58249d8a",
   "metadata": {},
   "outputs": [],
   "source": [
    "# msg._to_ros()"
   ]
  },
  {
   "cell_type": "code",
   "execution_count": 117,
   "id": "4deee97e-2453-4b6a-94fc-a79f08ce4d7a",
   "metadata": {},
   "outputs": [
    {
     "data": {
      "text/plain": [
       "array([ 0.       ,  1.       ,  4.       ,  7.984706 , -2.4892166,\n",
       "        0.       ,  1.       ,  3.       ,  0.       ,  0.       ,\n",
       "        0.       ,  0.       ,  0.       ,  0.       ,  0.       ,\n",
       "        0.       ,  0.       ,  0.       ,  0.       ,  0.       ,\n",
       "        0.       ,  0.       ,  0.       ,  0.       ,  0.       ,\n",
       "        0.       ,  0.       ], dtype=float32)"
      ]
     },
     "execution_count": 117,
     "metadata": {},
     "output_type": "execute_result"
    }
   ],
   "source": [
    "msg.Object_TrackA.to_numpy()\n",
    "msg.Object_TrackA[0].to_numpy()"
   ]
  },
  {
   "cell_type": "code",
   "execution_count": 75,
   "id": "05629605-6a91-4a7e-960b-c0a5e71d65e3",
   "metadata": {},
   "outputs": [
    {
     "data": {
      "text/plain": [
       "array([[1., 0., 0., 0.],\n",
       "       [1., 0., 0., 0.],\n",
       "       [1., 0., 0., 0.],\n",
       "       [1., 0., 0., 0.],\n",
       "       [1., 0., 0., 0.]], dtype=float32)"
      ]
     },
     "execution_count": 75,
     "metadata": {},
     "output_type": "execute_result"
    }
   ],
   "source": [
    "msg_np = msg.Object_TrackA.to_numpy()\n",
    "msg_np[:, 10:14]"
   ]
  },
  {
   "cell_type": "code",
   "execution_count": 37,
   "id": "3c28c166-1e78-4ff1-a947-c872f2a4a448",
   "metadata": {},
   "outputs": [],
   "source": [
    "msg_np[:, 10] = msg_np[:, 10] + 1\n",
    "# msg_np"
   ]
  },
  {
   "cell_type": "code",
   "execution_count": 38,
   "id": "fbff7587-7910-46c4-9cd9-b5df413cb4ca",
   "metadata": {},
   "outputs": [],
   "source": [
    "msg.reset_key(Object_TrackA=msg_np.flatten())"
   ]
  },
  {
   "cell_type": "code",
   "execution_count": 39,
   "id": "74684d48-b950-4f37-b488-ec7879b2c075",
   "metadata": {},
   "outputs": [
    {
     "data": {
      "text/plain": [
       "Object_TrackA(Rolling_Count=0.0, ObjObjectID=1.0, ObjObjectType=4.0, LongPos=7.984705924987793, LatPos=-2.4892165660858154, RelLongVel=0.0, RelLatVel=1.0, Confidence=3.0, Relative_Lane=0.0, confidence_val=0.0, bbox_xmin=1.0, bbox_ymin=0.0, bbox_xmax=0.0, bbox_ymax=0.0, bbox3d_x=0.0, bbox3d_y=0.0, bbox3d_z=0.0, bbox3d_dx=0.0, bbox3d_dy=0.0, bbox3d_dz=0.0, bbox3d_ry=0.0, dummy0=0.0, dummy1=0.0, dummy2=0.0, dummy3=0.0, dummy4=0.0, dummy5=0.0)"
      ]
     },
     "execution_count": 39,
     "metadata": {},
     "output_type": "execute_result"
    }
   ],
   "source": [
    "msg.Object_TrackA[0]"
   ]
  }
 ],
 "metadata": {
  "kernelspec": {
   "display_name": "Python 3",
   "language": "python",
   "name": "python3"
  },
  "language_info": {
   "codemirror_mode": {
    "name": "ipython",
    "version": 3
   },
   "file_extension": ".py",
   "mimetype": "text/x-python",
   "name": "python",
   "nbconvert_exporter": "python",
   "pygments_lexer": "ipython3",
   "version": "3.8.10"
  },
  "vscode": {
   "interpreter": {
    "hash": "916dbcbb3f70747c44a77c7bcd40155683ae19c65e1c03b4aa3499c5328201f1"
   }
  }
 },
 "nbformat": 4,
 "nbformat_minor": 5
}
